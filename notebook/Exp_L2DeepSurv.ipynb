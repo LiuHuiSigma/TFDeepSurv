{
 "cells": [
  {
   "cell_type": "code",
   "execution_count": 1,
   "metadata": {},
   "outputs": [],
   "source": [
    "import os\n",
    "import numpy as np\n",
    "import tensorflow as tf\n",
    "\n",
    "os.chdir(\"/home/num_24/桌面/mywork/github/TFDeepSurv\")\n",
    "os.getcwd()\n",
    "\n",
    "np.random.seed(10)\n",
    "\n",
    "from dataset import SimulatedData\n",
    "import L2DeepSurv as LDS\n",
    "\n",
    "data_config = SimulatedData(2000, num_var = 2, num_features = 10)\n",
    "data = data_config.generate_data(500)\n",
    "sort_idx = np.argsort(data['t'])[::-1]\n",
    "data['x'] = data['x'] [sort_idx]\n",
    "data['e'] = data['e'] [sort_idx]\n",
    "data['t'] = data['t'] [sort_idx]\n",
    "# get ties data"
   ]
  },
  {
   "cell_type": "code",
   "execution_count": 2,
   "metadata": {},
   "outputs": [
    {
     "name": "stdout",
     "output_type": "stream",
     "text": [
      "features:  10\n",
      "noties\n"
     ]
    }
   ],
   "source": [
    "n_features = data['x'].shape[1]\n",
    "print(\"features: \", n_features)\n",
    "model = LDS.L2DeepSurv(data['x'], {'e': data['e'], 't': data['t']},\n",
    "                      n_features, [6, 3], 1, \n",
    "                      learning_rate=0.001,\n",
    "                      activation='tanh', \n",
    "                      L1_reg=0.01, \n",
    "                      L2_reg=0.01, \n",
    "                      optimizer='sgd')\n",
    "print(model.train_data['ties'] )"
   ]
  },
  {
   "cell_type": "code",
   "execution_count": 3,
   "metadata": {},
   "outputs": [
    {
     "name": "stdout",
     "output_type": "stream",
     "text": [
      "-------------------------------------------------\n",
      "training steps 1:\n",
      "loss = 10244.3.\n",
      "\n",
      "CI = 0.491502.\n",
      "\n",
      "-------------------------------------------------\n",
      "training steps 501:\n",
      "loss = 9249.84.\n",
      "\n",
      "CI = 0.805522.\n",
      "\n",
      "-------------------------------------------------\n",
      "training steps 1001:\n",
      "loss = 9207.47.\n",
      "\n",
      "CI = 0.815258.\n",
      "\n",
      "-------------------------------------------------\n",
      "training steps 1501:\n",
      "loss = 9062.06.\n",
      "\n",
      "CI = 0.83305.\n",
      "\n",
      "-------------------------------------------------\n",
      "training steps 2001:\n",
      "loss = 9042.46.\n",
      "\n",
      "CI = 0.834029.\n",
      "\n",
      "-------------------------------------------------\n",
      "training steps 2501:\n",
      "loss = 9022.68.\n",
      "\n",
      "CI = 0.834487.\n",
      "\n"
     ]
    },
    {
     "data": {
      "image/png": "[encoded data removed]",
      "text/plain": [
       "<matplotlib.figure.Figure at 0x7fb20941be48>"
      ]
     },
     "metadata": {},
     "output_type": "display_data"
    },
    {
     "data": {
      "image/png": "[encoded data removed]",
      "text/plain": [
       "<matplotlib.figure.Figure at 0x7fb2091f03c8>"
      ]
     },
     "metadata": {},
     "output_type": "display_data"
    }
   ],
   "source": [
    "model.train(num_epoch=3000, iteration=500,\n",
    "            plot_train_loss=True, plot_train_CI=True)"
   ]
  },
  {
   "cell_type": "code",
   "execution_count": 2,
   "metadata": {},
   "outputs": [
    {
     "name": "stdout",
     "output_type": "stream",
     "text": [
      "[ 0.29699999  0.287       0.285       0.28200001  0.27599999  0.25099999\n",
      "  0.25        0.25        0.248       0.24600001  0.243       0.243       0.242\n",
      "  0.23899999  0.23        0.22        0.21799999  0.215       0.208       0.204\n",
      "  0.2         0.19599999  0.19599999  0.19400001  0.186       0.186       0.175\n",
      "  0.16599999  0.162       0.16        0.15800001  0.15700001  0.153       0.153\n",
      "  0.15000001  0.149       0.146       0.14300001  0.14300001  0.138\n",
      "  0.13600001  0.12800001  0.12800001  0.122       0.115       0.102       0.098\n",
      "  0.093       0.092       0.091       0.082       0.08        0.074       0.074\n",
      "  0.073       0.071       0.067       0.066       0.065       0.065       0.064\n",
      "  0.063       0.063       0.061       0.058       0.055       0.054       0.051\n",
      "  0.049       0.047       0.047       0.045       0.041       0.041       0.038\n",
      "  0.036       0.036       0.034       0.032       0.032     ]\n",
      "[1 1 1 1 1 1 1 1 1 1 1 1 1 1 1 1 1 1 1 1 1 1 1 1 1 1 1 1 1 1 1 1 1 1 1 1 1\n",
      " 1 1 1 1 1 1 1 1 1 1 1 1 1 1 1 1 1 1 1 1 1 1 1 1 1 1 1 1 1 1 1 1 1 1 1 1 1\n",
      " 1 1 1 1 1 1]\n"
     ]
    }
   ],
   "source": [
    "data['t'][400:480] = np.round(data['t'][400:480] , 3)\n",
    "print(data['t'][400:480])\n",
    "print(data['e'][400:480])"
   ]
  },
  {
   "cell_type": "code",
   "execution_count": 3,
   "metadata": {},
   "outputs": [
    {
     "name": "stdout",
     "output_type": "stream",
     "text": [
      "features:  10\n"
     ]
    }
   ],
   "source": [
    "n_features = data['x'].shape[1]\n",
    "print(\"features: \", n_features)\n",
    "model = LDS.L2DeepSurv(data['x'], {'e': data['e'], 't': data['t']},\n",
    "                      n_features, [6, 3], 1, \n",
    "                      learning_rate=0.001,\n",
    "                      activation='tanh', \n",
    "                      L1_reg=0.01, \n",
    "                      L2_reg=0.01, \n",
    "                      optimizer='sgd')"
   ]
  },
  {
   "cell_type": "code",
   "execution_count": 4,
   "metadata": {},
   "outputs": [
    {
     "name": "stdout",
     "output_type": "stream",
     "text": [
      "-------------------------------------------------\n",
      "training steps 1:\n",
      "loss = 2100.59.\n",
      "\n",
      "CI = 0.459211.\n",
      "\n",
      "-------------------------------------------------\n",
      "training steps 51:\n",
      "loss = 2100.45.\n",
      "\n",
      "CI = 0.479909.\n",
      "\n",
      "-------------------------------------------------\n",
      "training steps 101:\n",
      "loss = 2100.4.\n",
      "\n",
      "CI = 0.502478.\n",
      "\n",
      "-------------------------------------------------\n",
      "training steps 151:\n",
      "loss = 2100.34.\n",
      "\n",
      "CI = 0.531178.\n",
      "\n",
      "-------------------------------------------------\n",
      "training steps 201:\n",
      "loss = 2100.18.\n",
      "\n",
      "CI = 0.552379.\n",
      "\n",
      "-------------------------------------------------\n",
      "training steps 251:\n",
      "loss = 2099.41.\n",
      "\n",
      "CI = 0.563483.\n",
      "\n",
      "-------------------------------------------------\n",
      "training steps 301:\n",
      "loss = 2095.12.\n",
      "\n",
      "CI = 0.567548.\n",
      "\n",
      "-------------------------------------------------\n",
      "training steps 351:\n",
      "loss = 2092.85.\n",
      "\n",
      "CI = 0.568279.\n",
      "\n",
      "-------------------------------------------------\n",
      "training steps 401:\n",
      "loss = 2092.27.\n",
      "\n",
      "CI = 0.568107.\n",
      "\n",
      "-------------------------------------------------\n",
      "training steps 451:\n",
      "loss = 2090.79.\n",
      "\n",
      "CI = 0.567144.\n",
      "\n",
      "-------------------------------------------------\n",
      "training steps 501:\n",
      "loss = 2086.53.\n",
      "\n",
      "CI = 0.561783.\n",
      "\n",
      "-------------------------------------------------\n",
      "training steps 551:\n",
      "loss = 2075.38.\n",
      "\n",
      "CI = 0.547664.\n",
      "\n",
      "-------------------------------------------------\n",
      "training steps 601:\n",
      "loss = 2050.88.\n",
      "\n",
      "CI = 0.698979.\n",
      "\n",
      "-------------------------------------------------\n",
      "training steps 651:\n",
      "loss = 2019.93.\n",
      "\n",
      "CI = 0.712883.\n",
      "\n",
      "-------------------------------------------------\n",
      "training steps 701:\n",
      "loss = 2016.93.\n",
      "\n",
      "CI = 0.716058.\n",
      "\n",
      "-------------------------------------------------\n",
      "training steps 751:\n",
      "loss = 2014.96.\n",
      "\n",
      "CI = 0.718786.\n",
      "\n",
      "-------------------------------------------------\n",
      "training steps 801:\n",
      "loss = 2012.58.\n",
      "\n",
      "CI = 0.721608.\n",
      "\n",
      "-------------------------------------------------\n",
      "training steps 851:\n",
      "loss = 2008.58.\n",
      "\n",
      "CI = 0.725919.\n",
      "\n",
      "-------------------------------------------------\n",
      "training steps 901:\n",
      "loss = 2001.32.\n",
      "\n",
      "CI = 0.732708.\n",
      "\n",
      "-------------------------------------------------\n",
      "training steps 951:\n",
      "loss = 1985.25.\n",
      "\n",
      "CI = 0.746113.\n",
      "\n"
     ]
    },
    {
     "data": {
      "image/png": "[encoded data removed]",
      "text/plain": [
       "<matplotlib.figure.Figure at 0x7fccb56c17f0>"
      ]
     },
     "metadata": {},
     "output_type": "display_data"
    },
    {
     "data": {
      "image/png": "[encoded data removed]",
      "text/plain": [
       "<matplotlib.figure.Figure at 0x7fccb21af7b8>"
      ]
     },
     "metadata": {},
     "output_type": "display_data"
    }
   ],
   "source": [
    "model.train(num_epoch=1000, iteration=50,\n",
    "            plot_train_loss=True, plot_train_CI=True)"
   ]
  }
 ],
 "metadata": {
  "kernelspec": {
   "display_name": "Python 3",
   "language": "python",
   "name": "python3"
  },
  "language_info": {
   "codemirror_mode": {
    "name": "ipython",
    "version": 3
   },
   "file_extension": ".py",
   "mimetype": "text/x-python",
   "name": "python",
   "nbconvert_exporter": "python",
   "pygments_lexer": "ipython3",
   "version": "3.4.3"
  }
 },
 "nbformat": 4,
 "nbformat_minor": 2
}

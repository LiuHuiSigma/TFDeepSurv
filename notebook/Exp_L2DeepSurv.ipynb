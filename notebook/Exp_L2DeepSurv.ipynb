{
 "cells": [
  {
   "cell_type": "code",
   "execution_count": 1,
   "metadata": {},
   "outputs": [],
   "source": [
    "import os\n",
    "import numpy as np\n",
    "import tensorflow as tf\n",
    "\n",
    "os.chdir(\"/home/num_24/桌面/mywork/github/TFDeepSurv\")\n",
    "os.getcwd()\n",
    "\n",
    "np.random.seed(10)\n",
    "\n",
    "from dataset import SimulatedData\n",
    "import L2DeepSurv as LDS\n",
    "\n",
    "data_config = SimulatedData(2000, num_var = 4, num_features = 10)\n",
    "data = data_config.generate_data(2000)\n",
    "sort_idx = np.argsort(data['t'])[::-1]\n",
    "data['x'] = data['x'] [sort_idx]\n",
    "data['e'] = data['e'] [sort_idx]\n",
    "data['t'] = data['t'] [sort_idx]"
   ]
  },
  {
   "cell_type": "code",
   "execution_count": 2,
   "metadata": {},
   "outputs": [
    {
     "name": "stdout",
     "output_type": "stream",
     "text": [
      "features:  10\n",
      "noties\n"
     ]
    }
   ],
   "source": [
    "n_features = data['x'].shape[1]\n",
    "print(\"features: \", n_features)\n",
    "model = LDS.L2DeepSurv(data['x'], {'e': data['e'], 't': data['t']},\n",
    "                      n_features, [6, 3], 1, \n",
    "                      learning_rate=0.001,\n",
    "                      activation='tanh', \n",
    "                      L1_reg=0.01, \n",
    "                      L2_reg=0.01, \n",
    "                      optimizer='sgd')\n",
    "print(model.train_data['ties'] )"
   ]
  },
  {
   "cell_type": "code",
   "execution_count": 3,
   "metadata": {},
   "outputs": [
    {
     "name": "stdout",
     "output_type": "stream",
     "text": [
      "-------------------------------------------------\n",
      "training steps 1:\n",
      "loss = 11933.3.\n",
      "\n",
      "CI = 0.501569.\n",
      "\n",
      "-------------------------------------------------\n",
      "training steps 101:\n",
      "loss = 11933.\n",
      "\n",
      "CI = 0.511176.\n",
      "\n",
      "-------------------------------------------------\n",
      "training steps 201:\n",
      "loss = 11931.5.\n",
      "\n",
      "CI = 0.517756.\n",
      "\n",
      "-------------------------------------------------\n",
      "training steps 301:\n",
      "loss = 11926.5.\n",
      "\n",
      "CI = 0.521461.\n",
      "\n",
      "-------------------------------------------------\n",
      "training steps 401:\n",
      "loss = 11918.7.\n",
      "\n",
      "CI = 0.520731.\n",
      "\n",
      "-------------------------------------------------\n",
      "training steps 501:\n",
      "loss = 11909.6.\n",
      "\n",
      "CI = 0.522919.\n",
      "\n",
      "-------------------------------------------------\n",
      "training steps 601:\n",
      "loss = 11900.2.\n",
      "\n",
      "CI = 0.53836.\n",
      "\n",
      "-------------------------------------------------\n",
      "training steps 701:\n",
      "loss = 11860.8.\n",
      "\n",
      "CI = 0.59445.\n",
      "\n",
      "-------------------------------------------------\n",
      "training steps 801:\n",
      "loss = 11843.1.\n",
      "\n",
      "CI = 0.606975.\n",
      "\n",
      "-------------------------------------------------\n",
      "training steps 901:\n",
      "loss = 11840.4.\n",
      "\n",
      "CI = 0.6081.\n",
      "\n",
      "-------------------------------------------------\n",
      "training steps 1001:\n",
      "loss = 11837.9.\n",
      "\n",
      "CI = 0.608852.\n",
      "\n",
      "-------------------------------------------------\n",
      "training steps 1101:\n",
      "loss = 11829.4.\n",
      "\n",
      "CI = 0.61334.\n",
      "\n",
      "-------------------------------------------------\n",
      "training steps 1201:\n",
      "loss = 11783.8.\n",
      "\n",
      "CI = 0.641756.\n",
      "\n",
      "-------------------------------------------------\n",
      "training steps 1301:\n",
      "loss = 11767.5.\n",
      "\n",
      "CI = 0.646534.\n",
      "\n",
      "-------------------------------------------------\n",
      "training steps 1401:\n",
      "loss = 11771.5.\n",
      "\n",
      "CI = 0.645593.\n",
      "\n",
      "-------------------------------------------------\n",
      "training steps 1501:\n",
      "loss = 11767.4.\n",
      "\n",
      "CI = 0.646156.\n",
      "\n",
      "-------------------------------------------------\n",
      "training steps 1601:\n",
      "loss = 11764.4.\n",
      "\n",
      "CI = 0.646835.\n",
      "\n",
      "-------------------------------------------------\n",
      "training steps 1701:\n",
      "loss = 11762.2.\n",
      "\n",
      "CI = 0.64716.\n",
      "\n",
      "-------------------------------------------------\n",
      "training steps 1801:\n",
      "loss = 11760.2.\n",
      "\n",
      "CI = 0.647291.\n",
      "\n",
      "-------------------------------------------------\n",
      "training steps 1901:\n",
      "loss = 11757.5.\n",
      "\n",
      "CI = 0.647896.\n",
      "\n",
      "-------------------------------------------------\n",
      "training steps 2001:\n",
      "loss = 11754.\n",
      "\n",
      "CI = 0.648994.\n",
      "\n",
      "-------------------------------------------------\n",
      "training steps 2101:\n",
      "loss = 11750.8.\n",
      "\n",
      "CI = 0.650194.\n",
      "\n",
      "-------------------------------------------------\n",
      "training steps 2201:\n",
      "loss = 11747.4.\n",
      "\n",
      "CI = 0.650869.\n",
      "\n",
      "-------------------------------------------------\n",
      "training steps 2301:\n",
      "loss = 11744.3.\n",
      "\n",
      "CI = 0.650769.\n",
      "\n",
      "-------------------------------------------------\n",
      "training steps 2401:\n",
      "loss = 11741.9.\n",
      "\n",
      "CI = 0.650948.\n",
      "\n"
     ]
    },
    {
     "data": {
      "image/png": "[encoded data removed]",
      "text/plain": [
       "<matplotlib.figure.Figure at 0x7f9e61550c50>"
      ]
     },
     "metadata": {},
     "output_type": "display_data"
    },
    {
     "data": {
      "image/png": "[encoded data removed]",
      "text/plain": [
       "<matplotlib.figure.Figure at 0x7f9e5c067ac8>"
      ]
     },
     "metadata": {},
     "output_type": "display_data"
    }
   ],
   "source": [
    "model.train(num_epoch=2500, iteration=100,\n",
    "            plot_train_loss=True, plot_train_CI=True)"
   ]
  },
  {
   "cell_type": "code",
   "execution_count": 4,
   "metadata": {},
   "outputs": [
    {
     "name": "stdout",
     "output_type": "stream",
     "text": [
      "CI on train set: 0.700091\n",
      "CI on train set: 0.660557\n"
     ]
    }
   ],
   "source": [
    "X = data['x']\n",
    "label = {'e': data['e'], 't': data['t']}\n",
    "print(\"CI on train set: %g\" % model.eval(X, label))\n",
    "\n",
    "# 生成测试集数据\n",
    "test_data = data_config.generate_data(800)\n",
    "sort_idx = np.argsort(test_data['t'])[::-1]\n",
    "test_data['x'] = test_data['x'] [sort_idx]\n",
    "test_data['e'] = test_data['e'] [sort_idx]\n",
    "test_data['t'] = test_data['t'] [sort_idx]\n",
    "test_X = test_data['x']\n",
    "test_label = {'e': test_data['e'], 't': test_data['t']}\n",
    "print(\"CI on train set: %g\" % model.eval(test_X, test_label))"
   ]
  },
  {
   "cell_type": "code",
   "execution_count": 5,
   "metadata": {},
   "outputs": [
    {
     "name": "stdout",
     "output_type": "stream",
     "text": [
      "0th feature score : -0.904772.\n",
      "1th feature score : 1.\n",
      "2th feature score : 0.151366.\n",
      "3th feature score : 0.779731.\n",
      "4th feature score : -0.0495936.\n",
      "5th feature score : -0.143787.\n",
      "6th feature score : 0.0858083.\n",
      "7th feature score : -0.0444476.\n",
      "8th feature score : 0.0122163.\n",
      "9th feature score : 0.0189024.\n"
     ]
    },
    {
     "data": {
      "text/plain": [
       "array([-0.90477222,  1.        ,  0.15136601,  0.77973056, -0.04959365,\n",
       "       -0.14378659,  0.08580832, -0.04444762,  0.0122163 ,  0.01890245], dtype=float32)"
      ]
     },
     "execution_count": 5,
     "metadata": {},
     "output_type": "execute_result"
    }
   ],
   "source": [
    "model.evaluate_var_byWeights()"
   ]
  },
  {
   "cell_type": "code",
   "execution_count": 6,
   "metadata": {},
   "outputs": [
    {
     "data": {
      "text/plain": [
       "array([ 0.63383087,  0.61940233,  0.62775267,  0.64784342,  0.69984079,\n",
       "        0.69290818,  0.6882138 ,  0.69923669,  0.6997215 ,  0.69980103])"
      ]
     },
     "execution_count": 6,
     "metadata": {},
     "output_type": "execute_result"
    }
   ],
   "source": [
    "model.evaluate_var_byInputPerturbation()"
   ]
  },
  {
   "cell_type": "code",
   "execution_count": 7,
   "metadata": {},
   "outputs": [
    {
     "data": {
      "text/plain": [
       "array([ 0.1784015 ,  0.17542262,  0.17520671,  0.15463383,  0.00667036,\n",
       "        0.07382113,  0.17494449,  0.03679878,  0.01540109,  0.0086995 ], dtype=float32)"
      ]
     },
     "execution_count": 7,
     "metadata": {},
     "output_type": "execute_result"
    }
   ],
   "source": [
    "model.evaluate_var_byOneWeight()"
   ]
  },
  {
   "cell_type": "markdown",
   "metadata": {},
   "source": [
    "使用出现Ties的模拟数据测试："
   ]
  },
  {
   "cell_type": "code",
   "execution_count": 2,
   "metadata": {},
   "outputs": [
    {
     "name": "stdout",
     "output_type": "stream",
     "text": [
      "[ 0.29699999  0.287       0.285       0.28200001  0.27599999  0.25099999\n",
      "  0.25        0.25        0.248       0.24600001  0.243       0.243       0.242\n",
      "  0.23899999  0.23        0.22        0.21799999  0.215       0.208       0.204\n",
      "  0.2         0.19599999  0.19599999  0.19400001  0.186       0.186       0.175\n",
      "  0.16599999  0.162       0.16        0.15800001  0.15700001  0.153       0.153\n",
      "  0.15000001  0.149       0.146       0.14300001  0.14300001  0.138\n",
      "  0.13600001  0.12800001  0.12800001  0.122       0.115       0.102       0.098\n",
      "  0.093       0.092       0.091       0.082       0.08        0.074       0.074\n",
      "  0.073       0.071       0.067       0.066       0.065       0.065       0.064\n",
      "  0.063       0.063       0.061       0.058       0.055       0.054       0.051\n",
      "  0.049       0.047       0.047       0.045       0.041       0.041       0.038\n",
      "  0.036       0.036       0.034       0.032       0.032     ]\n",
      "[1 1 1 1 1 1 1 1 1 1 1 1 1 1 1 1 1 1 1 1 1 1 1 1 1 1 1 1 1 1 1 1 1 1 1 1 1\n",
      " 1 1 1 1 1 1 1 1 1 1 1 1 1 1 1 1 1 1 1 1 1 1 1 1 1 1 1 1 1 1 1 1 1 1 1 1 1\n",
      " 1 1 1 1 1 1]\n"
     ]
    }
   ],
   "source": [
    "data['t'][400:480] = np.round(data['t'][400:480] , 3)\n",
    "print(data['t'][400:480])\n",
    "print(data['e'][400:480])"
   ]
  },
  {
   "cell_type": "code",
   "execution_count": 3,
   "metadata": {},
   "outputs": [
    {
     "name": "stdout",
     "output_type": "stream",
     "text": [
      "features:  10\n"
     ]
    }
   ],
   "source": [
    "n_features = data['x'].shape[1]\n",
    "print(\"features: \", n_features)\n",
    "model = LDS.L2DeepSurv(data['x'], {'e': data['e'], 't': data['t']},\n",
    "                      n_features, [6, 3], 1, \n",
    "                      learning_rate=0.001,\n",
    "                      activation='tanh', \n",
    "                      L1_reg=0.01, \n",
    "                      L2_reg=0.01, \n",
    "                      optimizer='sgd')"
   ]
  },
  {
   "cell_type": "code",
   "execution_count": 4,
   "metadata": {},
   "outputs": [
    {
     "name": "stdout",
     "output_type": "stream",
     "text": [
      "-------------------------------------------------\n",
      "training steps 1:\n",
      "loss = 2100.59.\n",
      "\n",
      "CI = 0.459211.\n",
      "\n",
      "-------------------------------------------------\n",
      "training steps 51:\n",
      "loss = 2100.45.\n",
      "\n",
      "CI = 0.479909.\n",
      "\n",
      "-------------------------------------------------\n",
      "training steps 101:\n",
      "loss = 2100.4.\n",
      "\n",
      "CI = 0.502478.\n",
      "\n",
      "-------------------------------------------------\n",
      "training steps 151:\n",
      "loss = 2100.34.\n",
      "\n",
      "CI = 0.531178.\n",
      "\n",
      "-------------------------------------------------\n",
      "training steps 201:\n",
      "loss = 2100.18.\n",
      "\n",
      "CI = 0.552379.\n",
      "\n",
      "-------------------------------------------------\n",
      "training steps 251:\n",
      "loss = 2099.41.\n",
      "\n",
      "CI = 0.563483.\n",
      "\n",
      "-------------------------------------------------\n",
      "training steps 301:\n",
      "loss = 2095.12.\n",
      "\n",
      "CI = 0.567548.\n",
      "\n",
      "-------------------------------------------------\n",
      "training steps 351:\n",
      "loss = 2092.85.\n",
      "\n",
      "CI = 0.568279.\n",
      "\n",
      "-------------------------------------------------\n",
      "training steps 401:\n",
      "loss = 2092.27.\n",
      "\n",
      "CI = 0.568107.\n",
      "\n",
      "-------------------------------------------------\n",
      "training steps 451:\n",
      "loss = 2090.79.\n",
      "\n",
      "CI = 0.567144.\n",
      "\n",
      "-------------------------------------------------\n",
      "training steps 501:\n",
      "loss = 2086.53.\n",
      "\n",
      "CI = 0.561783.\n",
      "\n",
      "-------------------------------------------------\n",
      "training steps 551:\n",
      "loss = 2075.38.\n",
      "\n",
      "CI = 0.547664.\n",
      "\n",
      "-------------------------------------------------\n",
      "training steps 601:\n",
      "loss = 2050.88.\n",
      "\n",
      "CI = 0.698979.\n",
      "\n",
      "-------------------------------------------------\n",
      "training steps 651:\n",
      "loss = 2019.93.\n",
      "\n",
      "CI = 0.712883.\n",
      "\n",
      "-------------------------------------------------\n",
      "training steps 701:\n",
      "loss = 2016.93.\n",
      "\n",
      "CI = 0.716058.\n",
      "\n",
      "-------------------------------------------------\n",
      "training steps 751:\n",
      "loss = 2014.96.\n",
      "\n",
      "CI = 0.718786.\n",
      "\n",
      "-------------------------------------------------\n",
      "training steps 801:\n",
      "loss = 2012.58.\n",
      "\n",
      "CI = 0.721608.\n",
      "\n",
      "-------------------------------------------------\n",
      "training steps 851:\n",
      "loss = 2008.58.\n",
      "\n",
      "CI = 0.725919.\n",
      "\n",
      "-------------------------------------------------\n",
      "training steps 901:\n",
      "loss = 2001.32.\n",
      "\n",
      "CI = 0.732708.\n",
      "\n",
      "-------------------------------------------------\n",
      "training steps 951:\n",
      "loss = 1985.25.\n",
      "\n",
      "CI = 0.746113.\n",
      "\n"
     ]
    },
    {
     "data": {
      "image/png": "[encoded data removed]",
      "text/plain": [
       "<matplotlib.figure.Figure at 0x7fccb56c17f0>"
      ]
     },
     "metadata": {},
     "output_type": "display_data"
    },
    {
     "data": {
      "image/png": "[encoded data removed]",
      "text/plain": [
       "<matplotlib.figure.Figure at 0x7fccb21af7b8>"
      ]
     },
     "metadata": {},
     "output_type": "display_data"
    }
   ],
   "source": [
    "model.train(num_epoch=1000, iteration=50,\n",
    "            plot_train_loss=True, plot_train_CI=True)"
   ]
  }
 ],
 "metadata": {
  "kernelspec": {
   "display_name": "Python 3",
   "language": "python",
   "name": "python3"
  },
  "language_info": {
   "codemirror_mode": {
    "name": "ipython",
    "version": 3
   },
   "file_extension": ".py",
   "mimetype": "text/x-python",
   "name": "python",
   "nbconvert_exporter": "python",
   "pygments_lexer": "ipython3",
   "version": "3.4.3"
  }
 },
 "nbformat": 4,
 "nbformat_minor": 2
}

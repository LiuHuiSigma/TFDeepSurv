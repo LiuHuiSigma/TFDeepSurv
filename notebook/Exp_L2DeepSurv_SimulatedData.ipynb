{
 "cells": [
  {
   "cell_type": "code",
   "execution_count": 1,
   "metadata": {},
   "outputs": [],
   "source": [
    "import os\n",
    "import numpy as np\n",
    "import tensorflow as tf\n",
    "\n",
    "os.chdir(\"/home/num_24/桌面/mywork/github/TFDeepSurv\")\n",
    "os.getcwd()\n",
    "\n",
    "np.random.seed(10)\n",
    "\n",
    "from dataset import SimulatedData\n",
    "import L2DeepSurv as LDS\n",
    "\n",
    "data_config = SimulatedData(2000, num_var = 2, num_features = 10)\n",
    "data = data_config.generate_data(2000)"
   ]
  },
  {
   "cell_type": "code",
   "execution_count": 2,
   "metadata": {},
   "outputs": [
    {
     "name": "stdout",
     "output_type": "stream",
     "text": [
      "features:  10\n",
      "noties\n"
     ]
    }
   ],
   "source": [
    "n_features = data['x'].shape[1]\n",
    "print(\"features: \", n_features)\n",
    "model = LDS.L2DeepSurv(data['x'], {'e': data['e'], 't': data['t']},\n",
    "                      n_features, [6, 3], 1, \n",
    "                      learning_rate=0.2,\n",
    "                      activation='relu', \n",
    "                      L1_reg=0.0002, \n",
    "                      L2_reg=0.0003, \n",
    "                      optimizer='adam')\n",
    "print(model.train_data['ties'] )"
   ]
  },
  {
   "cell_type": "code",
   "execution_count": 3,
   "metadata": {},
   "outputs": [
    {
     "name": "stdout",
     "output_type": "stream",
     "text": [
      "-------------------------------------------------\n",
      "training steps 1:\n",
      "loss = 7.08073.\n",
      "\n",
      "CI = 0.504803.\n",
      "\n",
      "-------------------------------------------------\n",
      "training steps 101:\n",
      "loss = 7.08064.\n",
      "\n",
      "CI = 0.525917.\n",
      "\n",
      "-------------------------------------------------\n",
      "training steps 201:\n",
      "loss = 7.08055.\n",
      "\n",
      "CI = 0.528815.\n",
      "\n",
      "-------------------------------------------------\n",
      "training steps 301:\n",
      "loss = 7.08046.\n",
      "\n",
      "CI = 0.534499.\n",
      "\n",
      "-------------------------------------------------\n",
      "training steps 401:\n",
      "loss = 7.08035.\n",
      "\n",
      "CI = 0.543107.\n",
      "\n",
      "-------------------------------------------------\n",
      "training steps 501:\n",
      "loss = 7.08016.\n",
      "\n",
      "CI = 0.554087.\n",
      "\n",
      "-------------------------------------------------\n",
      "training steps 601:\n",
      "loss = 7.07968.\n",
      "\n",
      "CI = 0.573222.\n",
      "\n",
      "-------------------------------------------------\n",
      "training steps 701:\n",
      "loss = 7.07699.\n",
      "\n",
      "CI = 0.606653.\n",
      "\n",
      "-------------------------------------------------\n",
      "training steps 801:\n",
      "loss = 7.03317.\n",
      "\n",
      "CI = 0.65244.\n",
      "\n",
      "-------------------------------------------------\n",
      "training steps 901:\n",
      "loss = 6.86876.\n",
      "\n",
      "CI = 0.713897.\n",
      "\n",
      "-------------------------------------------------\n",
      "training steps 1001:\n",
      "loss = 6.4383.\n",
      "\n",
      "CI = 0.804707.\n",
      "\n",
      "-------------------------------------------------\n",
      "training steps 1101:\n",
      "loss = 6.38409.\n",
      "\n",
      "CI = 0.81262.\n",
      "\n",
      "-------------------------------------------------\n",
      "training steps 1201:\n",
      "loss = 6.36993.\n",
      "\n",
      "CI = 0.814596.\n",
      "\n",
      "-------------------------------------------------\n",
      "training steps 1301:\n",
      "loss = 6.36683.\n",
      "\n",
      "CI = 0.815106.\n",
      "\n",
      "-------------------------------------------------\n",
      "training steps 1401:\n",
      "loss = 6.36593.\n",
      "\n",
      "CI = 0.815264.\n",
      "\n",
      "-------------------------------------------------\n",
      "training steps 1501:\n",
      "loss = 6.36506.\n",
      "\n",
      "CI = 0.815327.\n",
      "\n",
      "-------------------------------------------------\n",
      "training steps 1601:\n",
      "loss = 6.36101.\n",
      "\n",
      "CI = 0.815952.\n",
      "\n",
      "-------------------------------------------------\n",
      "training steps 1701:\n",
      "loss = 6.36343.\n",
      "\n",
      "CI = 0.815633.\n",
      "\n",
      "-------------------------------------------------\n",
      "training steps 1801:\n",
      "loss = 6.36104.\n",
      "\n",
      "CI = 0.815952.\n",
      "\n",
      "-------------------------------------------------\n",
      "training steps 1901:\n",
      "loss = 6.36049.\n",
      "\n",
      "CI = 0.816287.\n",
      "\n",
      "-------------------------------------------------\n",
      "training steps 2001:\n",
      "loss = 6.35737.\n",
      "\n",
      "CI = 0.816715.\n",
      "\n",
      "-------------------------------------------------\n",
      "training steps 2101:\n",
      "loss = 6.3566.\n",
      "\n",
      "CI = 0.816871.\n",
      "\n",
      "-------------------------------------------------\n",
      "training steps 2201:\n",
      "loss = 6.35546.\n",
      "\n",
      "CI = 0.816961.\n",
      "\n",
      "-------------------------------------------------\n",
      "training steps 2301:\n",
      "loss = 6.35348.\n",
      "\n",
      "CI = 0.81721.\n",
      "\n",
      "-------------------------------------------------\n",
      "training steps 2401:\n",
      "loss = 6.35288.\n",
      "\n",
      "CI = 0.817325.\n",
      "\n"
     ]
    },
    {
     "data": {
      "image/png": "[encoded data removed]",
      "text/plain": [
       "<matplotlib.figure.Figure at 0x7f689b9a9cc0>"
      ]
     },
     "metadata": {},
     "output_type": "display_data"
    },
    {
     "data": {
      "image/png": "[encoded data removed]",
      "text/plain": [
       "<matplotlib.figure.Figure at 0x7f689b8b00b8>"
      ]
     },
     "metadata": {},
     "output_type": "display_data"
    }
   ],
   "source": [
    "model.train(num_epoch=2500, iteration=100,\n",
    "            plot_train_loss=True, plot_train_CI=True)"
   ]
  },
  {
   "cell_type": "code",
   "execution_count": 4,
   "metadata": {},
   "outputs": [
    {
     "name": "stdout",
     "output_type": "stream",
     "text": [
      "CI on train set: 0.817717\n",
      "CI on train set: 0.813821\n"
     ]
    }
   ],
   "source": [
    "X = data['x']\n",
    "label = {'e': data['e'], 't': data['t']}\n",
    "print(\"CI on train set: %g\" % model.eval(X, label))\n",
    "\n",
    "# 生成测试集数据\n",
    "test_data = data_config.generate_data(800)\n",
    "sort_idx = np.argsort(test_data['t'])[::-1]\n",
    "test_data['x'] = test_data['x'] [sort_idx]\n",
    "test_data['e'] = test_data['e'] [sort_idx]\n",
    "test_data['t'] = test_data['t'] [sort_idx]\n",
    "test_X = test_data['x']\n",
    "test_label = {'e': test_data['e'], 't': test_data['t']}\n",
    "print(\"CI on train set: %g\" % model.eval(test_X, test_label))"
   ]
  },
  {
   "cell_type": "code",
   "execution_count": 5,
   "metadata": {},
   "outputs": [
    {
     "name": "stdout",
     "output_type": "stream",
     "text": [
      "0th feature score : -0.0427295.\n",
      "1th feature score : 1.\n",
      "2th feature score : 0.0100278.\n",
      "3th feature score : -0.020157.\n",
      "4th feature score : -0.213659.\n",
      "5th feature score : 0.00779494.\n",
      "6th feature score : 0.328767.\n",
      "7th feature score : -0.0759722.\n",
      "8th feature score : 0.0515076.\n",
      "9th feature score : 0.106244.\n"
     ]
    },
    {
     "data": {
      "text/plain": [
       "array([-0.04272946,  1.        ,  0.01002778, -0.02015701, -0.21365936,\n",
       "        0.00779494,  0.32876679, -0.07597221,  0.05150763,  0.1062442 ], dtype=float32)"
      ]
     },
     "execution_count": 5,
     "metadata": {},
     "output_type": "execute_result"
    }
   ],
   "source": [
    "model.evaluate_var_byWeights()"
   ]
  },
  {
   "cell_type": "code",
   "execution_count": 6,
   "metadata": {},
   "outputs": [
    {
     "data": {
      "text/plain": [
       "[array([[-0.21328406,  1.78190005,  0.10777041, -1.6367563 , -0.24023001,\n",
       "         -0.0629805 ],\n",
       "        [-0.42153907, -0.92590028, -0.40231463, -1.41113472,  2.03910422,\n",
       "          0.13899639],\n",
       "        [-0.16405948, -0.03169267, -0.1163133 , -0.01815065,  0.02260805,\n",
       "         -0.25151774],\n",
       "        [-0.18665132, -0.07543458, -0.11398401, -0.06192507, -0.05131284,\n",
       "          0.14991036],\n",
       "        [ 0.07059152, -0.12352715, -0.38230145, -0.08863649,  0.03108068,\n",
       "         -0.03499667],\n",
       "        [-0.04710085,  0.00852015, -0.00415107, -0.03741465, -0.0319171 ,\n",
       "          0.19249275],\n",
       "        [-0.40491682,  0.04951339,  0.3716765 , -0.09995412,  0.01275348,\n",
       "          0.11899771],\n",
       "        [-0.05350206, -0.04238999, -0.19282423, -0.01669576,  0.00232662,\n",
       "         -0.14439563],\n",
       "        [-0.09637763,  0.02215778,  0.06289692, -0.07092812, -0.04040873,\n",
       "          0.28315488],\n",
       "        [-0.1392567 ,  0.03041203,  0.07188811, -0.02096449,  0.01922358,\n",
       "         -0.02936389]], dtype=float32),\n",
       " array([[ -4.16343987e-01,   1.81130745e-05,  -4.81393248e-01],\n",
       "        [  1.07571781e+00,   2.46259806e-05,   1.26077914e+00],\n",
       "        [ -4.93227243e-01,  -3.40141305e-05,  -4.31525141e-01],\n",
       "        [  1.08365500e+00,   4.36305709e-06,   1.08045149e+00],\n",
       "        [  8.64321053e-01,  -1.30464869e-05,   1.11921382e+00],\n",
       "        [  3.00179124e-01,   3.43548891e-06,   3.41143787e-01]], dtype=float32),\n",
       " array([[ -1.57520330e+00],\n",
       "        [  1.38245741e-05],\n",
       "        [ -1.76242018e+00]], dtype=float32)]"
      ]
     },
     "execution_count": 6,
     "metadata": {},
     "output_type": "execute_result"
    }
   ],
   "source": [
    "[model.sess.run(w) for w in model.nnweights]"
   ]
  },
  {
   "cell_type": "code",
   "execution_count": 6,
   "metadata": {},
   "outputs": [
    {
     "data": {
      "text/plain": [
       "array([ 0.63383087,  0.61940233,  0.62775267,  0.64784342,  0.69984079,\n",
       "        0.69290818,  0.6882138 ,  0.69923669,  0.6997215 ,  0.69980103])"
      ]
     },
     "execution_count": 6,
     "metadata": {},
     "output_type": "execute_result"
    }
   ],
   "source": [
    "model.evaluate_var_byInputPerturbation()"
   ]
  },
  {
   "cell_type": "code",
   "execution_count": 7,
   "metadata": {},
   "outputs": [
    {
     "data": {
      "text/plain": [
       "array([ 0.1784015 ,  0.17542262,  0.17520671,  0.15463383,  0.00667036,\n",
       "        0.07382113,  0.17494449,  0.03679878,  0.01540109,  0.0086995 ], dtype=float32)"
      ]
     },
     "execution_count": 7,
     "metadata": {},
     "output_type": "execute_result"
    }
   ],
   "source": [
    "model.evaluate_var_byOneWeight()"
   ]
  },
  {
   "cell_type": "markdown",
   "metadata": {},
   "source": [
    "### 出现ties\n",
    "\n",
    "使用出现Ties的模拟数据测试："
   ]
  },
  {
   "cell_type": "code",
   "execution_count": 2,
   "metadata": {},
   "outputs": [
    {
     "name": "stdout",
     "output_type": "stream",
     "text": [
      "[ 0.29699999  0.287       0.285       0.28200001  0.27599999  0.25099999\n",
      "  0.25        0.25        0.248       0.24600001  0.243       0.243       0.242\n",
      "  0.23899999  0.23        0.22        0.21799999  0.215       0.208       0.204\n",
      "  0.2         0.19599999  0.19599999  0.19400001  0.186       0.186       0.175\n",
      "  0.16599999  0.162       0.16        0.15800001  0.15700001  0.153       0.153\n",
      "  0.15000001  0.149       0.146       0.14300001  0.14300001  0.138\n",
      "  0.13600001  0.12800001  0.12800001  0.122       0.115       0.102       0.098\n",
      "  0.093       0.092       0.091       0.082       0.08        0.074       0.074\n",
      "  0.073       0.071       0.067       0.066       0.065       0.065       0.064\n",
      "  0.063       0.063       0.061       0.058       0.055       0.054       0.051\n",
      "  0.049       0.047       0.047       0.045       0.041       0.041       0.038\n",
      "  0.036       0.036       0.034       0.032       0.032     ]\n",
      "[1 1 1 1 1 1 1 1 1 1 1 1 1 1 1 1 1 1 1 1 1 1 1 1 1 1 1 1 1 1 1 1 1 1 1 1 1\n",
      " 1 1 1 1 1 1 1 1 1 1 1 1 1 1 1 1 1 1 1 1 1 1 1 1 1 1 1 1 1 1 1 1 1 1 1 1 1\n",
      " 1 1 1 1 1 1]\n"
     ]
    }
   ],
   "source": [
    "data['t'][400:480] = np.round(data['t'][400:480] , 3)\n",
    "print(data['t'][400:480])\n",
    "print(data['e'][400:480])"
   ]
  },
  {
   "cell_type": "code",
   "execution_count": 3,
   "metadata": {},
   "outputs": [
    {
     "name": "stdout",
     "output_type": "stream",
     "text": [
      "features:  10\n"
     ]
    }
   ],
   "source": [
    "n_features = data['x'].shape[1]\n",
    "print(\"features: \", n_features)\n",
    "model = LDS.L2DeepSurv(data['x'], {'e': data['e'], 't': data['t']},\n",
    "                      n_features, [6, 3], 1, \n",
    "                      learning_rate=0.001,\n",
    "                      activation='tanh', \n",
    "                      L1_reg=0.01, \n",
    "                      L2_reg=0.01, \n",
    "                      optimizer='sgd')"
   ]
  },
  {
   "cell_type": "code",
   "execution_count": 4,
   "metadata": {},
   "outputs": [
    {
     "name": "stdout",
     "output_type": "stream",
     "text": [
      "-------------------------------------------------\n",
      "training steps 1:\n",
      "loss = 2100.59.\n",
      "\n",
      "CI = 0.459211.\n",
      "\n",
      "-------------------------------------------------\n",
      "training steps 51:\n",
      "loss = 2100.45.\n",
      "\n",
      "CI = 0.479909.\n",
      "\n",
      "-------------------------------------------------\n",
      "training steps 101:\n",
      "loss = 2100.4.\n",
      "\n",
      "CI = 0.502478.\n",
      "\n",
      "-------------------------------------------------\n",
      "training steps 151:\n",
      "loss = 2100.34.\n",
      "\n",
      "CI = 0.531178.\n",
      "\n",
      "-------------------------------------------------\n",
      "training steps 201:\n",
      "loss = 2100.18.\n",
      "\n",
      "CI = 0.552379.\n",
      "\n",
      "-------------------------------------------------\n",
      "training steps 251:\n",
      "loss = 2099.41.\n",
      "\n",
      "CI = 0.563483.\n",
      "\n",
      "-------------------------------------------------\n",
      "training steps 301:\n",
      "loss = 2095.12.\n",
      "\n",
      "CI = 0.567548.\n",
      "\n",
      "-------------------------------------------------\n",
      "training steps 351:\n",
      "loss = 2092.85.\n",
      "\n",
      "CI = 0.568279.\n",
      "\n",
      "-------------------------------------------------\n",
      "training steps 401:\n",
      "loss = 2092.27.\n",
      "\n",
      "CI = 0.568107.\n",
      "\n",
      "-------------------------------------------------\n",
      "training steps 451:\n",
      "loss = 2090.79.\n",
      "\n",
      "CI = 0.567144.\n",
      "\n",
      "-------------------------------------------------\n",
      "training steps 501:\n",
      "loss = 2086.53.\n",
      "\n",
      "CI = 0.561783.\n",
      "\n",
      "-------------------------------------------------\n",
      "training steps 551:\n",
      "loss = 2075.38.\n",
      "\n",
      "CI = 0.547664.\n",
      "\n",
      "-------------------------------------------------\n",
      "training steps 601:\n",
      "loss = 2050.88.\n",
      "\n",
      "CI = 0.698979.\n",
      "\n",
      "-------------------------------------------------\n",
      "training steps 651:\n",
      "loss = 2019.93.\n",
      "\n",
      "CI = 0.712883.\n",
      "\n",
      "-------------------------------------------------\n",
      "training steps 701:\n",
      "loss = 2016.93.\n",
      "\n",
      "CI = 0.716058.\n",
      "\n",
      "-------------------------------------------------\n",
      "training steps 751:\n",
      "loss = 2014.96.\n",
      "\n",
      "CI = 0.718786.\n",
      "\n",
      "-------------------------------------------------\n",
      "training steps 801:\n",
      "loss = 2012.58.\n",
      "\n",
      "CI = 0.721608.\n",
      "\n",
      "-------------------------------------------------\n",
      "training steps 851:\n",
      "loss = 2008.58.\n",
      "\n",
      "CI = 0.725919.\n",
      "\n",
      "-------------------------------------------------\n",
      "training steps 901:\n",
      "loss = 2001.32.\n",
      "\n",
      "CI = 0.732708.\n",
      "\n",
      "-------------------------------------------------\n",
      "training steps 951:\n",
      "loss = 1985.25.\n",
      "\n",
      "CI = 0.746113.\n",
      "\n"
     ]
    },
    {
     "data": {
      "image/png": "[encoded data removed]",
      "text/plain": [
       "<matplotlib.figure.Figure at 0x7fccb56c17f0>"
      ]
     },
     "metadata": {},
     "output_type": "display_data"
    },
    {
     "data": {
      "image/png": "[encoded data removed]",
      "text/plain": [
       "<matplotlib.figure.Figure at 0x7fccb21af7b8>"
      ]
     },
     "metadata": {},
     "output_type": "display_data"
    }
   ],
   "source": [
    "model.train(num_epoch=1000, iteration=50,\n",
    "            plot_train_loss=True, plot_train_CI=True)"
   ]
  }
 ],
 "metadata": {
  "kernelspec": {
   "display_name": "Python 3",
   "language": "python",
   "name": "python3"
  },
  "language_info": {
   "codemirror_mode": {
    "name": "ipython",
    "version": 3
   },
   "file_extension": ".py",
   "mimetype": "text/x-python",
   "name": "python",
   "nbconvert_exporter": "python",
   "pygments_lexer": "ipython3",
   "version": "3.4.3"
  }
 },
 "nbformat": 4,
 "nbformat_minor": 2
}
